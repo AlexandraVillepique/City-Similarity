{
 "cells": [
  {
   "cell_type": "markdown",
   "metadata": {
    "collapsed": true
   },
   "source": [
    "# Similarity of the cities\n",
    "\n",
    "<p>After preparing data and calculating the frequencies of the words and phrases in the business categories, it is time to calculate similarity.</p>\n",
    "<p> \n",
    "I picked the simple approach, making a corpus of the words and then clustering that corpus. And I'll start with gensim module. </p>"
   ]
  },
  {
   "cell_type": "code",
   "execution_count": 1,
   "metadata": {
    "collapsed": false
   },
   "outputs": [
    {
     "name": "stderr",
     "output_type": "stream",
     "text": [
      "/Users/Lexa/anaconda/lib/python2.7/site-packages/matplotlib/font_manager.py:273: UserWarning: Matplotlib is building the font cache using fc-list. This may take a moment.\n",
      "  warnings.warn('Matplotlib is building the font cache using fc-list. This may take a moment.')\n"
     ]
    }
   ],
   "source": [
    "from gensim import corpora\n",
    "import pickle\n",
    "import numpy as np\n",
    "import scipy\n",
    "from matplotlib import pyplot as plt\n",
    "import gensim\n",
    "import pandas as pd\n",
    "import random\n",
    "import math\n",
    "import os\n",
    "import sys"
   ]
  },
  {
   "cell_type": "markdown",
   "metadata": {},
   "source": [
    "I'll start with the single word categories. "
   ]
  },
  {
   "cell_type": "code",
   "execution_count": 51,
   "metadata": {
    "collapsed": true
   },
   "outputs": [],
   "source": [
    "pkl_file1 = open('out_cityCatTop.pkl', 'rb')\n",
    "topCateg= pickle.load (pkl_file1)\n",
    "pkl_file1.close()"
   ]
  },
  {
   "cell_type": "markdown",
   "metadata": {},
   "source": [
    "Cleaning of the data is not completed. Now, I need to remove common short words and special symbols. Both do not have a specific meaning when we consider the business categories, but due to descriptive value of the words and characters they might have a high frequency. "
   ]
  },
  {
   "cell_type": "code",
   "execution_count": 52,
   "metadata": {
    "collapsed": true
   },
   "outputs": [],
   "source": [
    "cities=topCateg.keys()\n",
    "stoplist = set('for a of the and to in ( )'.split())\n",
    "texts=[]\n",
    "for cit in cities:\n",
    "    cat=topCateg[cit]\n",
    "    texts.append([tup[0] for tup in cat if tup[0] not in stoplist])"
   ]
  },
  {
   "cell_type": "markdown",
   "metadata": {},
   "source": [
    "Next step is to make a corpus of the words. <br>\n",
    "I'm starting by making a dictionary that assigns a number to a word."
   ]
  },
  {
   "cell_type": "code",
   "execution_count": 53,
   "metadata": {
    "collapsed": false
   },
   "outputs": [
    {
     "name": "stdout",
     "output_type": "stream",
     "text": [
      "Dictionary(163 unique tokens: [u'shop', u'venu', u'salon', u'nurseri', u'mexican']...)\n"
     ]
    }
   ],
   "source": [
    "dictionary = corpora.Dictionary(texts)\n",
    "dictionary.save('/tmp/deerwester.dict')  # store the dictionary, for future reference\n",
    "print(dictionary)"
   ]
  },
  {
   "cell_type": "markdown",
   "metadata": {},
   "source": [
    "Now I'm making vectors."
   ]
  },
  {
   "cell_type": "code",
   "execution_count": 54,
   "metadata": {
    "collapsed": true
   },
   "outputs": [],
   "source": [
    "corpus=[]\n",
    "\n",
    "for cit in cities:\n",
    "    cat=topCateg[cit]\n",
    "    new_doc = [tup[0] for tup in cat if tup[0] not in stoplist]\n",
    "    new_vec = dictionary.doc2bow(new_doc)\n",
    "    corpus.append(new_vec) \n",
    "\n",
    "corpora.MmCorpus.serialize('/tmp/deerwester.mm', corpus)  # store to disk, for later use"
   ]
  },
  {
   "cell_type": "markdown",
   "metadata": {},
   "source": [
    "<p>I plan to look for similarity using clustering algorithm. So, next step is turning the corpus in a numpy matrix.</p>\n",
    "<p>\n",
    "Math is really awesome, so finding a way to turn your words into the numbers and then process those numbers is my favorite way of analysis. </p>"
   ]
  },
  {
   "cell_type": "code",
   "execution_count": 55,
   "metadata": {
    "collapsed": false
   },
   "outputs": [
    {
     "name": "stdout",
     "output_type": "stream",
     "text": [
      "     0    1    2    3    4    5    6    7    8    9         ...           154  \\\n",
      "0  1.0  1.0  1.0  0.0  0.0  0.0  0.0  0.0  0.0  0.0         ...           0.0   \n",
      "1  0.0  0.0  0.0  1.0  1.0  1.0  0.0  0.0  0.0  0.0         ...           0.0   \n",
      "2  0.0  0.0  0.0  0.0  0.0  0.0  1.0  1.0  1.0  0.0         ...           0.0   \n",
      "3  0.0  0.0  0.0  0.0  0.0  0.0  0.0  0.0  0.0  1.0         ...           0.0   \n",
      "4  0.0  0.0  0.0  0.0  0.0  0.0  0.0  0.0  0.0  0.0         ...           0.0   \n",
      "\n",
      "   155  156  157  158  159  160  161  162                 city  \n",
      "0  0.0  0.0  0.0  0.0  0.0  0.0  0.0  0.0  dollard-des-ormeaux  \n",
      "1  0.0  0.0  0.0  0.0  0.0  0.0  0.0  0.0            stanfield  \n",
      "2  0.0  0.0  0.0  0.0  0.0  0.0  0.0  0.0    upper saint clair  \n",
      "3  0.0  0.0  0.0  0.0  0.0  0.0  0.0  0.0           south gyle  \n",
      "4  0.0  0.0  0.0  0.0  0.0  0.0  0.0  0.0          dalgety bay  \n",
      "\n",
      "[5 rows x 164 columns]\n",
      "362\n"
     ]
    }
   ],
   "source": [
    "Nmat = gensim.matutils.corpus2dense(corpus, num_terms=163)\n",
    "Nmat1= Nmat.transpose()\n",
    "df=pd.DataFrame(Nmat1)\n",
    "df['city']=cities\n",
    "print df.head(5)\n",
    "print len(cities)"
   ]
  },
  {
   "cell_type": "markdown",
   "metadata": {},
   "source": [
    "And now applying the simplest clustering algorithm, K-means."
   ]
  },
  {
   "cell_type": "code",
   "execution_count": 61,
   "metadata": {
    "collapsed": true
   },
   "outputs": [],
   "source": [
    "from scipy.cluster.vq import kmeans, vq\n",
    "\n",
    "test=range(163)\n",
    "colu=[str(x) for x in test]\n",
    "\n",
    "words = Nmat1 \n",
    "N = len(words)\n",
    "k = 70\n",
    "i = 50\n",
    "\n",
    "centroids = kmeans(words, k, iter=i)\n",
    "a=centroids[0]\n",
    "\n",
    "test=vq(words,a)\n"
   ]
  },
  {
   "cell_type": "markdown",
   "metadata": {},
   "source": [
    "So let us see one of the cluster. "
   ]
  },
  {
   "cell_type": "code",
   "execution_count": 62,
   "metadata": {
    "collapsed": false
   },
   "outputs": [
    {
     "name": "stdout",
     "output_type": "stream",
     "text": [
      "                      city  cluster  distance\n",
      "18          san tan valley        3  1.052627\n",
      "19                carefree        3  0.743283\n",
      "24               youngtown        3  1.052627\n",
      "66          castle shannon        3  0.941171\n",
      "99                maricopa        3  0.880166\n",
      "143             pittsburgh        3  0.880166\n",
      "174                 rankin        3  1.489676\n",
      "205       chandler-gilbert        3  1.526515\n",
      "207         1023 e frye rd        3  1.413122\n",
      "223             charlotte         3  1.413122\n",
      "229              ahwatukee        3  0.941171\n",
      "250  nellis air force base        3  1.489676\n",
      "263                seattle        3  1.526515\n",
      "265              ettlingen        3  0.880166\n",
      "271           indian trail        3  1.104145\n",
      "333        apache junction        3  0.574671\n",
      "350              karlsruhe        3  0.880166\n",
      "355               carnegie        3  0.880166\n"
     ]
    }
   ],
   "source": [
    "test1=test[0]\n",
    "test2=test[1]\n",
    "\n",
    "df['cluster']=test1\n",
    "df['distance']=test2\n",
    "tee={'city':df['city'], 'cluster': df['cluster'], 'distance':df['distance']}\n",
    "df2=pd.DataFrame(data=tee)\n",
    "\n",
    "\n",
    "clu=df2[df2['city']=='pittsburgh']['cluster'].values\n",
    "clus=int(clu)\n",
    "\n",
    "print df2[df2['cluster']==clus]"
   ]
  },
  {
   "cell_type": "markdown",
   "metadata": {},
   "source": [
    "### Of course, I would like to see this graphically. \n",
    "<p> The vector space of my corpus has 163 dimensions. Something that we cannot even imagine not to mention visually present.</p>\n",
    "<p>So, instead, I will distribute clusters in the grid and assign distance of the grid point based on their cluster distance and random angle I'll assign to the point. Initially, I tried random angle just to make sure that cities do not overlap in my graph, but since human eye tends to see patterns where patterns do not exist, I limited the angle to 45 degrees only. This will align cities in the cluster in diagonal, at the 2D distances respective on their 163D distance from the cluster center. Of course, some cities will overlap with this method.</p>"
   ]
  },
  {
   "cell_type": "code",
   "execution_count": 66,
   "metadata": {
    "collapsed": false
   },
   "outputs": [
    {
     "name": "stdout",
     "output_type": "stream",
     "text": [
      "                  city  cluster  distance      xCoor      yCoor\n",
      "0  dollard-des-ormeaux       36  1.080124  30.567413  60.919081\n",
      "1            stanfield       22  0.974279  20.511810  20.829017\n",
      "2    upper saint clair        0  0.400000   0.210129   0.340362\n",
      "3           south gyle       29  0.899954  20.472766  90.765774\n",
      "4          dalgety bay       31  1.000000  30.525322  10.850903\n",
      "5              madison       26  0.598352  20.314327  60.509140\n"
     ]
    }
   ],
   "source": [
    "x=range(k/10)\n",
    "x=[t*10 for t in x]\n",
    "y=range(10)\n",
    "y=[t*10 for t in y]\n",
    "\n",
    "clusterCoor=[]\n",
    "\n",
    "for xc in x:\n",
    "    for yc in y:\n",
    "        clusterCoor.append((xc,yc))\n",
    "\n",
    "clust=pd.DataFrame(data=clusterCoor)\n",
    "clust['cluster']=range(k)\n",
    "\n",
    "\n",
    "\n",
    "clu=df2['cluster']\n",
    "dis=df2['distance']\n",
    "xci=[]\n",
    "yci=[]\n",
    "\n",
    "for i in range(len(clu)):\n",
    "    cl=clu[i]\n",
    "    dist=dis[i]\n",
    "    clRow=clust[clust['cluster']==cl]\n",
    "    xC=int(clRow[0].values)\n",
    "    yC=int(clRow[1].values)\n",
    "    angle=45 #random.randint(0,90)\n",
    "    xci.append((dist* math.cos(angle))+xC)\n",
    "    yci.append((dist *math.sin(angle))+yC) \n",
    "    \n",
    "df2['xCoor']=xci\n",
    "df2['yCoor']=yci\n",
    "\n",
    "print df2.head(6)"
   ]
  },
  {
   "cell_type": "markdown",
   "metadata": {},
   "source": [
    "Now, I can plot the grid. "
   ]
  },
  {
   "cell_type": "code",
   "execution_count": 67,
   "metadata": {
    "collapsed": false
   },
   "outputs": [
    {
     "name": "stdout",
     "output_type": "stream",
     "text": [
      "Populating the interactive namespace from numpy and matplotlib\n"
     ]
    },
    {
     "name": "stderr",
     "output_type": "stream",
     "text": [
      "WARNING: pylab import has clobbered these variables: ['dist', 'angle', 'test']\n",
      "`%matplotlib` prevents importing * from pylab and numpy\n"
     ]
    }
   ],
   "source": [
    "%pylab inline"
   ]
  },
  {
   "cell_type": "code",
   "execution_count": 68,
   "metadata": {
    "collapsed": false
   },
   "outputs": [
    {
     "data": {
      "image/png": "[encoded data removed]",
      "text/plain": [
       "<matplotlib.figure.Figure at 0x11d08b390>"
      ]
     },
     "metadata": {},
     "output_type": "display_data"
    }
   ],
   "source": [
    "x= df2['xCoor']\n",
    "y= df2['yCoor']\n",
    "\n",
    "plt.figure(figsize=(20, 20), dpi=100)\n",
    "plt.scatter(x,y)\n",
    "plt.xlim(x.min()-5,x.max()+5)\n",
    "plt.ylim(y.min()-5,y.max()+5)\n",
    "plt.show()"
   ]
  },
  {
   "cell_type": "markdown",
   "metadata": {},
   "source": [
    "<p>This figure does not tell us much. Unless we take in the consideration the fact that majority of the Yelp data consist of cities with the university. This particular data set is a combination of the dataset offered to college students, the one that consists of the urban areas around the universities themselves and just a few other complete urban areas. </p>\n",
    "<p>Thus, I'm expecting the results to show a bias towards several huge clusters. After all, around the universities, one can expect certain prevalent types of business, the ones that offer services specific to the academic settings.</p>"
   ]
  },
  {
   "cell_type": "code",
   "execution_count": 69,
   "metadata": {
    "collapsed": false
   },
   "outputs": [],
   "source": [
    "df4=df2[df2['cluster']==clus]\n",
    "x1= df4['xCoor']\n",
    "y1= df4['yCoor']\n",
    "df5=df4.loc[df4['distance'].idxmin()]\n",
    "closestCity=df5['city']\n",
    "xclos=df5['xCoor']\n",
    "yclos=df5['yCoor']\n",
    "df6=df4.loc[df4['distance'].idxmax()]\n",
    "furCity=df6['city']\n",
    "xfur=df6['xCoor']\n",
    "yfur=df6['yCoor']"
   ]
  },
  {
   "cell_type": "code",
   "execution_count": 70,
   "metadata": {
    "collapsed": false
   },
   "outputs": [
    {
     "name": "stdout",
     "output_type": "stream",
     "text": [
      "0 30\n"
     ]
    }
   ],
   "source": [
    "cenx=int(x1.min()-x1.min()%10.)\n",
    "ceny=int(y1.min()-y1.min()%10.)\n",
    "print cenx,ceny"
   ]
  },
  {
   "cell_type": "code",
   "execution_count": 72,
   "metadata": {
    "collapsed": false
   },
   "outputs": [
    {
     "data": {
      "image/png": "[encoded data removed]",
      "text/plain": [
       "<matplotlib.figure.Figure at 0x11ce23a90>"
      ]
     },
     "metadata": {},
     "output_type": "display_data"
    }
   ],
   "source": [
    "plt.figure(figsize=(10, 10), dpi=100)\n",
    "df_scatter = plt.scatter(x1,y1, c='b', alpha=.5, s=500/df4['distance'])\n",
    "plt.title( 'Similarity in cluster', fontsize=20)\n",
    "plt.xlabel('Distance from center', fontsize=16)\n",
    "plt.ylabel('Distance from center', fontsize =16)\n",
    "plt.xlim(cenx,x1.max()+0.1)\n",
    "plt.ylim(ceny,y1.max()+0.1)\n",
    "plt.annotate('Cluster center', xy=(cenx, ceny), xytext=(cenx+0.1, ceny+0.2),\n",
    "            arrowprops=dict(facecolor='black', shrink=0.05),\n",
    "            )\n",
    "plt.text(xclos+0.05,yclos, closestCity)\n",
    "plt.text(xfur-0.15,yfur, furCity)\n",
    "plt.show()"
   ]
  },
  {
   "cell_type": "markdown",
   "metadata": {
    "collapsed": true
   },
   "source": [
    "<p>Although I got neat result, I personally do not like it.</p>\n",
    "<p>During making of corpus vectors ended up having more than 100 dimensions, and I have a limited number of cities. This makes these results highly suspicious. It is never good when one has features and data points that are in the same order of magnitude of numbers. There is no way one can get statistically significant results. (Unless your goal is to use statistic to lie ;-) ) </p>\n",
    "<p>I took only 3 top categories for each city to reduce the number of dimensions, but further reduction is not possible because when I reduce to two or one business category, then I get too dense clusters.</p>\n",
    "<p>Restoraunts as most common business is a consequence of today's world, where online business is more prevalent. Thus, I have to have 3 categories at least in a previous analysis. Otherwise, most of the cities would end up same.</p>\n",
    "<p>I'll test this with analyzing of common phrases. There I can reduce features dimensions taking only one or two phrases per city. </p>\n",
    "# Similarity of cities based on most common phrases"
   ]
  },
  {
   "cell_type": "markdown",
   "metadata": {},
   "source": [
    "<p> So now, instead comparing single words used to describe business categories in cities, I'm using phrases.</p>\n",
    "<p>First, I'll start with analysis of two-words phrases and basically repeat above analysis.</p>\n"
   ]
  },
  {
   "cell_type": "code",
   "execution_count": 102,
   "metadata": {
    "collapsed": true
   },
   "outputs": [],
   "source": [
    "pkl_file1 = open('out_cityCatBigramTop.pkl', 'rb')\n",
    "topCateg= pickle.load (pkl_file1)\n",
    "pkl_file1.close()"
   ]
  },
  {
   "cell_type": "code",
   "execution_count": 103,
   "metadata": {
    "collapsed": true
   },
   "outputs": [],
   "source": [
    "cities=topCateg.keys()\n",
    "stoplist = set('for a of the and to in ( )'.split())\n",
    "texts=[]\n",
    "for cit in cities:\n",
    "    cat=topCateg[cit]\n",
    "    texts.append([tup[0] for tup in cat if tup[0] not in stoplist])"
   ]
  },
  {
   "cell_type": "code",
   "execution_count": 104,
   "metadata": {
    "collapsed": false
   },
   "outputs": [
    {
     "name": "stdout",
     "output_type": "stream",
     "text": [
      "Dictionary(99 unique tokens: [u'shop', u'mexican', u'german', u'asian', u'flavor']...)\n"
     ]
    }
   ],
   "source": [
    "dictionary = corpora.Dictionary(texts)\n",
    "dictionary.save('/tmp/deerwester.dict')  # store the dictionary, for future reference\n",
    "print(dictionary)"
   ]
  },
  {
   "cell_type": "markdown",
   "metadata": {},
   "source": [
    "And this might be promising. Now with 2 top phrases, I will have vectors that have 99 dimensions. Barely out of the order of magnitude of the data points.  "
   ]
  },
  {
   "cell_type": "code",
   "execution_count": 105,
   "metadata": {
    "collapsed": true
   },
   "outputs": [],
   "source": [
    "corpus=[]\n",
    "\n",
    "for cit in cities:\n",
    "    cat=topCateg[cit]\n",
    "    new_doc = [tup[0] for tup in cat if tup[0] not in stoplist]\n",
    "    new_vec = dictionary.doc2bow(new_doc)\n",
    "    corpus.append(new_vec) \n",
    "\n",
    "corpora.MmCorpus.serialize('/tmp/deerwester2.mm', corpus)  # store to disk, for later use\n",
    "Nmat = gensim.matutils.corpus2dense(corpus, num_terms=99)\n",
    "Nmat1= Nmat.transpose()\n",
    "df=pd.DataFrame(Nmat1)\n",
    "df['city']=cities"
   ]
  },
  {
   "cell_type": "markdown",
   "metadata": {},
   "source": [
    "Now off to clustering."
   ]
  },
  {
   "cell_type": "code",
   "execution_count": 113,
   "metadata": {
    "collapsed": true
   },
   "outputs": [],
   "source": [
    "test=range(99)\n",
    "colu=[str(x) for x in test]\n",
    "\n",
    "words = Nmat1 \n",
    "N = len(words)\n",
    "k = 50\n",
    "i = 100\n",
    "\n",
    "centroids = kmeans(words, k, iter=i)\n",
    "a=centroids[0]\n",
    "\n",
    "test=vq(words,a)"
   ]
  },
  {
   "cell_type": "code",
   "execution_count": 121,
   "metadata": {
    "collapsed": false
   },
   "outputs": [
    {
     "name": "stdout",
     "output_type": "stream",
     "text": [
      "                        city  cluster  distance\n",
      "33   sainte-anne-de-bellevue        5       0.0\n",
      "36         robinson township        5       0.0\n",
      "61                  edgewood        5       0.0\n",
      "69           south las vegas        5       0.0\n",
      "179              los angeles        5       0.0\n",
      "187              pierrefonds        5       0.0\n",
      "211                kitchener        5       0.0\n",
      "235                     etna        5       0.0\n",
      "241                  neuburg        5       0.0\n",
      "254                 waunakee        5       0.0\n",
      "283              gold canyon        5       0.0\n",
      "291            le vieux-port        5       0.0\n",
      "324           west homestead        5       0.0\n",
      "331        north queensferry        5       0.0\n"
     ]
    }
   ],
   "source": [
    "test1=test[0]\n",
    "test2=test[1]\n",
    "\n",
    "df['cluster']=test1\n",
    "df['distance']=test2\n",
    "tee={'city':df['city'], 'cluster': df['cluster'], 'distance':df['distance']}\n",
    "df2=pd.DataFrame(data=tee)\n",
    "\n",
    "\n",
    "clu=df2[df2['city']=='los angeles']['cluster'].values\n",
    "clus=int(clu)\n",
    "\n",
    "print df2[df2['cluster']==clus]"
   ]
  },
  {
   "cell_type": "markdown",
   "metadata": {},
   "source": [
    "<p>Pay attention to the distance in this cluster. Every single city has exactly the same vector in corpus. That's why distance for each city is 0. This is because I'm using only one phrase.</p>\n",
    "<p>Let us see how all clusers look together. </p>"
   ]
  },
  {
   "cell_type": "code",
   "execution_count": 122,
   "metadata": {
    "collapsed": false
   },
   "outputs": [
    {
     "name": "stdout",
     "output_type": "stream",
     "text": [
      "                  city  cluster  distance      xCoor      yCoor\n",
      "0  dollard-des-ormeaux       29  0.000000  20.000000  90.000000\n",
      "1            stanfield       12  0.000000  10.000000  20.000000\n",
      "2    upper saint clair        0  0.998398   0.524480   0.849540\n",
      "3           south gyle        0  0.096023   0.050443   0.081706\n",
      "4          dalgety bay        0  0.985877   0.517903   0.838886\n",
      "5              madison        0  0.985877   0.517903   0.838886\n"
     ]
    }
   ],
   "source": [
    "x=range(k/10)\n",
    "x=[t*10 for t in x]\n",
    "y=range(10)\n",
    "y=[t*10 for t in y]\n",
    "\n",
    "clusterCoor=[]\n",
    "\n",
    "for xc in x:\n",
    "    for yc in y:\n",
    "        clusterCoor.append((xc,yc))\n",
    "\n",
    "clust=pd.DataFrame(data=clusterCoor)\n",
    "clust['cluster']=range(k)\n",
    "\n",
    "\n",
    "\n",
    "clu=df2['cluster']\n",
    "dis=df2['distance']\n",
    "xci=[]\n",
    "yci=[]\n",
    "\n",
    "for i in range(len(clu)):\n",
    "    cl=clu[i]\n",
    "    dist=dis[i]\n",
    "    clRow=clust[clust['cluster']==cl]\n",
    "    xC=int(clRow[0].values)\n",
    "    yC=int(clRow[1].values)\n",
    "    angle=45 #random.randint(0,90)\n",
    "    xci.append((dist* math.cos(angle))+xC)\n",
    "    yci.append((dist *math.sin(angle))+yC) \n",
    "    \n",
    "df2['xCoor']=xci\n",
    "df2['yCoor']=yci\n",
    "\n",
    "print df2.head(6)"
   ]
  },
  {
   "cell_type": "code",
   "execution_count": 123,
   "metadata": {
    "collapsed": false
   },
   "outputs": [
    {
     "data": {
      "image/png": "[encoded data removed]",
      "text/plain": [
       "<matplotlib.figure.Figure at 0x11e0576d0>"
      ]
     },
     "metadata": {},
     "output_type": "display_data"
    }
   ],
   "source": [
    "x= df2['xCoor']\n",
    "y= df2['yCoor']\n",
    "\n",
    "plt.figure(figsize=(20, 20), dpi=100)\n",
    "plt.scatter(x,y)\n",
    "plt.xlim(x.min()-5,x.max()+5)\n",
    "plt.ylim(y.min()-5,y.max()+5)\n",
    "plt.show()"
   ]
  },
  {
   "cell_type": "markdown",
   "metadata": {},
   "source": [
    "<p>Unfortunately, only one cluster shows a bit of difference .</p>\n",
    "<p>Let us see is situation more interesting when I use phrase of 3 words </p>\n",
    "## Similarity based on triple word phrase"
   ]
  },
  {
   "cell_type": "code",
   "execution_count": 124,
   "metadata": {
    "collapsed": true
   },
   "outputs": [],
   "source": [
    "pkl_file1 = open('out_cityCatTrigramTop.pkl', 'rb')\n",
    "topCateg= pickle.load (pkl_file1)\n",
    "pkl_file1.close()"
   ]
  },
  {
   "cell_type": "code",
   "execution_count": 125,
   "metadata": {
    "collapsed": false
   },
   "outputs": [
    {
     "name": "stdout",
     "output_type": "stream",
     "text": [
      "Dictionary(105 unique tokens: [u'shop', u'nurseri', u'mexican', u'german', u'horseback']...)\n"
     ]
    }
   ],
   "source": [
    "cities=topCateg.keys()\n",
    "stoplist = set('for a of the and to in ( )'.split())\n",
    "texts=[]\n",
    "for cit in cities:\n",
    "    cat=topCateg[cit]\n",
    "    texts.append([tup[0] for tup in cat if tup[0] not in stoplist])\n",
    "\n",
    "dictionary = corpora.Dictionary(texts)\n",
    "dictionary.save('/tmp/deerwester.dict')  # store the dictionary, for future reference\n",
    "print(dictionary)"
   ]
  },
  {
   "cell_type": "code",
   "execution_count": 127,
   "metadata": {
    "collapsed": true
   },
   "outputs": [],
   "source": [
    "corpus=[]\n",
    "\n",
    "for cit in cities:\n",
    "    cat=topCateg[cit]\n",
    "    new_doc = [tup[0] for tup in cat if tup[0] not in stoplist]\n",
    "    new_vec = dictionary.doc2bow(new_doc)\n",
    "    corpus.append(new_vec) \n",
    "\n",
    "corpora.MmCorpus.serialize('/tmp/deerwester3.mm', corpus)  # store to disk, for later use\n",
    "Nmat = gensim.matutils.corpus2dense(corpus, num_terms=105)\n",
    "Nmat1= Nmat.transpose()\n",
    "df=pd.DataFrame(Nmat1)\n",
    "df['city']=cities"
   ]
  },
  {
   "cell_type": "code",
   "execution_count": 128,
   "metadata": {
    "collapsed": true
   },
   "outputs": [],
   "source": [
    "test=range(105)\n",
    "colu=[str(x) for x in test]\n",
    "\n",
    "words = Nmat1 \n",
    "N = len(words)\n",
    "k = 50\n",
    "i = 100\n",
    "\n",
    "centroids = kmeans(words, k, iter=i)\n",
    "a=centroids[0]\n",
    "\n",
    "test=vq(words,a)"
   ]
  },
  {
   "cell_type": "code",
   "execution_count": 129,
   "metadata": {
    "collapsed": false
   },
   "outputs": [
    {
     "name": "stdout",
     "output_type": "stream",
     "text": [
      "                city  cluster  distance\n",
      "61          edgewood        7       0.0\n",
      "69   south las vegas        7       0.0\n",
      "179      los angeles        7       0.0\n",
      "187      pierrefonds        7       0.0\n",
      "241          neuburg        7       0.0\n",
      "254         waunakee        7       0.0\n",
      "305         kirkland        7       0.0\n",
      "319         wittmann        7       0.0\n",
      "324   west homestead        7       0.0\n"
     ]
    }
   ],
   "source": [
    "test1=test[0]\n",
    "test2=test[1]\n",
    "\n",
    "df['cluster']=test1\n",
    "df['distance']=test2\n",
    "tee={'city':df['city'], 'cluster': df['cluster'], 'distance':df['distance']}\n",
    "df2=pd.DataFrame(data=tee)\n",
    "\n",
    "\n",
    "clu=df2[df2['city']=='los angeles']['cluster'].values\n",
    "clus=int(clu)\n",
    "\n",
    "print df2[df2['cluster']==clus]"
   ]
  },
  {
   "cell_type": "markdown",
   "metadata": {},
   "source": [
    "<p> Again similar, distance is 0 for all cities, but this time, we have less cities in cluster. That is progress.</p>\n"
   ]
  },
  {
   "cell_type": "code",
   "execution_count": 130,
   "metadata": {
    "collapsed": true
   },
   "outputs": [],
   "source": [
    "x=range(k/10)\n",
    "x=[t*10 for t in x]\n",
    "y=range(10)\n",
    "y=[t*10 for t in y]\n",
    "\n",
    "clusterCoor=[]\n",
    "\n",
    "for xc in x:\n",
    "    for yc in y:\n",
    "        clusterCoor.append((xc,yc))\n",
    "\n",
    "clust=pd.DataFrame(data=clusterCoor)\n",
    "clust['cluster']=range(k)\n",
    "\n",
    "\n",
    "\n",
    "clu=df2['cluster']\n",
    "dis=df2['distance']\n",
    "xci=[]\n",
    "yci=[]\n",
    "\n",
    "for i in range(len(clu)):\n",
    "    cl=clu[i]\n",
    "    dist=dis[i]\n",
    "    clRow=clust[clust['cluster']==cl]\n",
    "    xC=int(clRow[0].values)\n",
    "    yC=int(clRow[1].values)\n",
    "    angle=45 #random.randint(0,90)\n",
    "    xci.append((dist* math.cos(angle))+xC)\n",
    "    yci.append((dist *math.sin(angle))+yC) \n",
    "    \n",
    "df2['xCoor']=xci\n",
    "df2['yCoor']=yci\n"
   ]
  },
  {
   "cell_type": "code",
   "execution_count": 131,
   "metadata": {
    "collapsed": false
   },
   "outputs": [
    {
     "data": {
      "image/png": "[encoded data removed]",
      "text/plain": [
       "<matplotlib.figure.Figure at 0x119ab62d0>"
      ]
     },
     "metadata": {},
     "output_type": "display_data"
    }
   ],
   "source": [
    "x= df2['xCoor']\n",
    "y= df2['yCoor']\n",
    "\n",
    "plt.figure(figsize=(20, 20), dpi=100)\n",
    "plt.scatter(x,y)\n",
    "plt.xlim(x.min()-5,x.max()+5)\n",
    "plt.ylim(y.min()-5,y.max()+5)\n",
    "plt.show()"
   ]
  },
  {
   "cell_type": "markdown",
   "metadata": {},
   "source": [
    "<p>And of course, loads of overlapping in clusters here too.</p>\n",
    "<p> Even one phrase is significant in deciding about business, but I still do not like the fact that even with reducing to one top phrase I end up having so many overlapping cities.</p>\n",
    "<p>The final conclusion is that k-means simply do not work for this data. I will try this analysis with a different method. My next method to try is hierarchical clustering. </p>"
   ]
  },
  {
   "cell_type": "code",
   "execution_count": null,
   "metadata": {
    "collapsed": true
   },
   "outputs": [],
   "source": []
  }
 ],
 "metadata": {
  "anaconda-cloud": {},
  "kernelspec": {
   "display_name": "Python [Root]",
   "language": "python",
   "name": "Python [Root]"
  },
  "language_info": {
   "codemirror_mode": {
    "name": "ipython",
    "version": 2
   },
   "file_extension": ".py",
   "mimetype": "text/x-python",
   "name": "python",
   "nbconvert_exporter": "python",
   "pygments_lexer": "ipython2",
   "version": "2.7.12"
  }
 },
 "nbformat": 4,
 "nbformat_minor": 0
}
